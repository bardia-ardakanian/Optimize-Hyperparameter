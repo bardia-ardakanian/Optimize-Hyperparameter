{
  "nbformat": 4,
  "nbformat_minor": 0,
  "metadata": {
    "colab": {
      "provenance": []
    },
    "kernelspec": {
      "name": "python3",
      "display_name": "Python 3"
    },
    "language_info": {
      "name": "python"
    }
  },
  "cells": [
    {
      "cell_type": "markdown",
      "source": [
        "# Imports"
      ],
      "metadata": {
        "id": "wsSfr224UICR"
      }
    },
    {
      "cell_type": "code",
      "source": [
        "!pip install mlxtend --upgrade"
      ],
      "metadata": {
        "colab": {
          "base_uri": "https://localhost:8080/",
          "height": 565
        },
        "id": "tMGShc1nfR86",
        "outputId": "7c810240-3e62-471a-e74c-291e84fcc86f"
      },
      "execution_count": null,
      "outputs": [
        {
          "output_type": "stream",
          "name": "stdout",
          "text": [
            "Looking in indexes: https://pypi.org/simple, https://us-python.pkg.dev/colab-wheels/public/simple/\n",
            "Requirement already satisfied: mlxtend in /usr/local/lib/python3.8/dist-packages (0.14.0)\n",
            "Collecting mlxtend\n",
            "  Downloading mlxtend-0.21.0-py2.py3-none-any.whl (1.3 MB)\n",
            "\u001b[K     |████████████████████████████████| 1.3 MB 4.7 MB/s \n",
            "\u001b[?25hRequirement already satisfied: scipy>=1.2.1 in /usr/local/lib/python3.8/dist-packages (from mlxtend) (1.7.3)\n",
            "Requirement already satisfied: pandas>=0.24.2 in /usr/local/lib/python3.8/dist-packages (from mlxtend) (1.3.5)\n",
            "Requirement already satisfied: joblib>=0.13.2 in /usr/local/lib/python3.8/dist-packages (from mlxtend) (1.2.0)\n",
            "Requirement already satisfied: setuptools in /usr/local/lib/python3.8/dist-packages (from mlxtend) (57.4.0)\n",
            "Requirement already satisfied: scikit-learn>=1.0.2 in /usr/local/lib/python3.8/dist-packages (from mlxtend) (1.0.2)\n",
            "Requirement already satisfied: matplotlib>=3.0.0 in /usr/local/lib/python3.8/dist-packages (from mlxtend) (3.2.2)\n",
            "Requirement already satisfied: numpy>=1.16.2 in /usr/local/lib/python3.8/dist-packages (from mlxtend) (1.21.6)\n",
            "Requirement already satisfied: kiwisolver>=1.0.1 in /usr/local/lib/python3.8/dist-packages (from matplotlib>=3.0.0->mlxtend) (1.4.4)\n",
            "Requirement already satisfied: pyparsing!=2.0.4,!=2.1.2,!=2.1.6,>=2.0.1 in /usr/local/lib/python3.8/dist-packages (from matplotlib>=3.0.0->mlxtend) (3.0.9)\n",
            "Requirement already satisfied: cycler>=0.10 in /usr/local/lib/python3.8/dist-packages (from matplotlib>=3.0.0->mlxtend) (0.11.0)\n",
            "Requirement already satisfied: python-dateutil>=2.1 in /usr/local/lib/python3.8/dist-packages (from matplotlib>=3.0.0->mlxtend) (2.8.2)\n",
            "Requirement already satisfied: pytz>=2017.3 in /usr/local/lib/python3.8/dist-packages (from pandas>=0.24.2->mlxtend) (2022.6)\n",
            "Requirement already satisfied: six>=1.5 in /usr/local/lib/python3.8/dist-packages (from python-dateutil>=2.1->matplotlib>=3.0.0->mlxtend) (1.15.0)\n",
            "Requirement already satisfied: threadpoolctl>=2.0.0 in /usr/local/lib/python3.8/dist-packages (from scikit-learn>=1.0.2->mlxtend) (3.1.0)\n",
            "Installing collected packages: mlxtend\n",
            "  Attempting uninstall: mlxtend\n",
            "    Found existing installation: mlxtend 0.14.0\n",
            "    Uninstalling mlxtend-0.14.0:\n",
            "      Successfully uninstalled mlxtend-0.14.0\n",
            "Successfully installed mlxtend-0.21.0\n"
          ]
        },
        {
          "output_type": "display_data",
          "data": {
            "application/vnd.colab-display-data+json": {
              "pip_warning": {
                "packages": [
                  "mlxtend"
                ]
              }
            }
          },
          "metadata": {}
        }
      ]
    },
    {
      "cell_type": "code",
      "source": [
        "from sklearn.tree import DecisionTreeClassifier\n",
        "from sklearn.ensemble import RandomForestRegressor\n",
        "from sklearn.svm import SVC \n",
        "from sklearn.datasets import load_breast_cancer \n",
        "from sklearn.metrics import classification_report, confusion_matrix \n",
        "from sklearn.model_selection import GridSearchCV\n",
        "from sklearn.model_selection import train_test_split\n",
        "from sklearn.model_selection import GridSearchCV\n",
        "from sklearn.model_selection import RandomizedSearchCV\n",
        "from mlxtend.evaluate import bias_variance_decomp\n",
        "from mlxtend.data import boston_housing_data"
      ],
      "metadata": {
        "id": "ePYaaOZkULH4"
      },
      "execution_count": null,
      "outputs": []
    },
    {
      "cell_type": "markdown",
      "source": [
        "# Datasets"
      ],
      "metadata": {
        "id": "rfFF03_3UNHA"
      }
    },
    {
      "cell_type": "code",
      "source": [
        "dataset = load_breast_cancer()\n",
        "X=dataset.data\n",
        "y=dataset.target\n",
        "X_train, X_test, y_train, y_test = train_test_split(X, y, test_size = 0.30, random_state = 101) "
      ],
      "metadata": {
        "id": "M7nk236QfWeM"
      },
      "execution_count": null,
      "outputs": []
    },
    {
      "cell_type": "markdown",
      "source": [
        "## Variance & Bias"
      ],
      "metadata": {
        "id": "3popGZdxg2Iu"
      }
    },
    {
      "cell_type": "code",
      "source": [
        "def loss(model):\n",
        "  print(model)\n",
        "  avg_expected_loss, avg_bias, avg_var = bias_variance_decomp(\n",
        "          model, X_train, y_train, X_test, y_test, \n",
        "          loss='mse',\n",
        "          random_seed=123)\n",
        "\n",
        "  print('Average expected loss: %.3f' % avg_expected_loss)\n",
        "  print('Average bias: %.3f' % avg_bias)\n",
        "  print('Average variance: %.3f' % avg_var)"
      ],
      "metadata": {
        "id": "xzVRqCGGg3nU"
      },
      "execution_count": null,
      "outputs": []
    },
    {
      "cell_type": "markdown",
      "source": [
        "# Training"
      ],
      "metadata": {
        "id": "F-Sm_WAX6no7"
      }
    },
    {
      "cell_type": "code",
      "source": [
        "def optimize(sklearnModel, searchCV, params):\n",
        "  search = searchCV(sklearnModel(), params, cv=10, verbose = 1,n_jobs=-1)\n",
        "\n",
        "  # fitting the model for grid search \n",
        "  search.fit(X_train, y_train)\n",
        "\n",
        "  # print best parameter after tuning \n",
        "  print(search.best_params_) \n",
        "  grid_predictions = search.predict(X_test) \n",
        "\n",
        "  # print classification report \n",
        "  print(classification_report(y_test, grid_predictions)) \n",
        "\n",
        "  o_model = search.best_estimator_\n",
        "  loss(o_model)"
      ],
      "metadata": {
        "id": "knL1M_I86qUa"
      },
      "execution_count": null,
      "outputs": []
    },
    {
      "cell_type": "markdown",
      "source": [
        "# Testing"
      ],
      "metadata": {
        "id": "ZbIqz51U7O2R"
      }
    },
    {
      "cell_type": "code",
      "source": [
        "optimize(\n",
        "    DecisionTreeClassifier, \n",
        "    GridSearchCV, \n",
        "    {'criterion': ['gini', 'entropy'], \n",
        "    'max_depth': range(1, 10), \n",
        "    'min_samples_split': range(2, 10),\n",
        "    'min_samples_leaf': range(1, 5)}\n",
        ")"
      ],
      "metadata": {
        "colab": {
          "base_uri": "https://localhost:8080/"
        },
        "id": "pieYXLBF7Pwa",
        "outputId": "113a2e1e-7cdb-4deb-bbe8-71327d879fe0"
      },
      "execution_count": null,
      "outputs": [
        {
          "output_type": "stream",
          "name": "stdout",
          "text": [
            "Fitting 10 folds for each of 576 candidates, totalling 5760 fits\n",
            "{'criterion': 'gini', 'max_depth': 3, 'min_samples_leaf': 1, 'min_samples_split': 2}\n",
            "              precision    recall  f1-score   support\n",
            "\n",
            "           0       0.92      0.91      0.92        66\n",
            "           1       0.94      0.95      0.95       105\n",
            "\n",
            "    accuracy                           0.94       171\n",
            "   macro avg       0.93      0.93      0.93       171\n",
            "weighted avg       0.94      0.94      0.94       171\n",
            "\n",
            "DecisionTreeClassifier(max_depth=3)\n",
            "Average expected loss: 0.080\n",
            "Average bias: 0.042\n",
            "Average variance: 0.038\n"
          ]
        }
      ]
    }
  ]
}